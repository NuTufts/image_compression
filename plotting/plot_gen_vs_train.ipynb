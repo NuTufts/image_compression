{
 "cells": [
  {
   "cell_type": "code",
   "execution_count": 50,
   "metadata": {},
   "outputs": [],
   "source": [
    "import numpy as np\n",
    "import ROOT as rt\n",
    "rt.gStyle.SetOptStat(0)"
   ]
  },
  {
   "cell_type": "code",
   "execution_count": 2,
   "metadata": {},
   "outputs": [
    {
     "name": "stdout",
     "output_type": "stream",
     "text": [
      "(30, 64, 64, 1)\n",
      "(30, 64, 64, 1)\n",
      "(30, 64, 64, 1)\n",
      "(30, 16, 16)\n"
     ]
    }
   ],
   "source": [
    "\"\"\"samples.npy  testset_codes.npy  testset_imgs.npy  testset_recons.npy\"\"\"\n",
    "samples  = np.load(\"samples.npy\")\n",
    "testimg  = np.load(\"testset_imgs.npy\")\n",
    "testreco = np.load(\"testset_recons.npy\")\n",
    "testcode = np.load(\"testset_codes.npy\")\n",
    "print samples.shape\n",
    "print testimg.shape\n",
    "print testreco.shape\n",
    "print testcode.shape"
   ]
  },
  {
   "cell_type": "code",
   "execution_count": 62,
   "metadata": {},
   "outputs": [],
   "source": [
    "def make_hist_from_array( arr, hname ):\n",
    "    h = rt.TH2D( hname, \"\", arr.shape[0], 0, arr.shape[0], arr.shape[1], 0, arr.shape[1] )\n",
    "    for x in range( arr.shape[0] ):\n",
    "        for y in range( arr.shape[1] ):\n",
    "            val = arr[x,y]\n",
    "            if arr[x,y]<0.1:\n",
    "                val = 0.01\n",
    "            h.SetBinContent( x+1, y+1, val)\n",
    "    return h"
   ]
  },
  {
   "cell_type": "code",
   "execution_count": 63,
   "metadata": {},
   "outputs": [
    {
     "name": "stderr",
     "output_type": "stream",
     "text": [
      "Warning in <TCanvas::Constructor>: Deleting canvas with same name: csample\n"
     ]
    },
    {
     "data": {
      "image/png": "[encoded data removed]",
      "text/plain": [
       "<IPython.core.display.Image object>"
      ]
     },
     "metadata": {},
     "output_type": "display_data"
    }
   ],
   "source": [
    "rt.gStyle.SetPadBottomMargin(0)\n",
    "rt.gStyle.SetPadTopMargin(0)\n",
    "rt.gStyle.SetPadLeftMargin(0)\n",
    "rt.gStyle.SetPadRightMargin(0)\n",
    "rt.gStyle.SetPadTickX(1);\n",
    "rt.gStyle.SetPadTickY(1);\n",
    "csample = rt.TCanvas(\"csample\",\"csample\",600,600)\n",
    "csample.SetFrameFillColor(0);\n",
    "csample.SetFrameFillStyle(0);\n",
    "csample.SetFrameLineColor(0);\n",
    "csample.SetFrameBorderMode(0);  \n",
    "csample.Divide(3,3);\n",
    "\n",
    "filled = []\n",
    "while len(filled)<9:\n",
    "    p = np.random.randint(0,30)\n",
    "    if p not in filled:\n",
    "        filled.append(p)\n",
    "\n",
    "hsamplelist = []\n",
    "for n,i in enumerate(filled):\n",
    "    csample.cd( 3*(n/3) + n%3 + 1 )\n",
    "    h = make_hist_from_array( samples[i,:,:,0], \"sample%d\"%(i))\n",
    "    h.Draw(\"col\")\n",
    "    h.GetZaxis().SetRangeUser(0,10.0)\n",
    "    h.GetXaxis().SetLabelSize(0)\n",
    "    h.GetYaxis().SetLabelSize(0)\n",
    "    h.GetZaxis().SetLabelSize(0)\n",
    "    hsamplelist.append(h)\n",
    "csample.Draw()"
   ]
  },
  {
   "cell_type": "code",
   "execution_count": 64,
   "metadata": {},
   "outputs": [
    {
     "name": "stderr",
     "output_type": "stream",
     "text": [
      "Warning in <TCanvas::Constructor>: Deleting canvas with same name: ctestimg\n"
     ]
    },
    {
     "data": {
      "image/png": "[encoded data removed]",
      "text/plain": [
       "<IPython.core.display.Image object>"
      ]
     },
     "metadata": {},
     "output_type": "display_data"
    }
   ],
   "source": [
    "rt.gStyle.SetPadBottomMargin(0)\n",
    "rt.gStyle.SetPadTopMargin(0)\n",
    "rt.gStyle.SetPadLeftMargin(0)\n",
    "rt.gStyle.SetPadRightMargin(0)\n",
    "rt.gStyle.SetPadTickX(1);\n",
    "rt.gStyle.SetPadTickY(1);\n",
    "ctestimg = rt.TCanvas(\"ctestimg\",\"ctestimg\",600,600)\n",
    "ctestimg.SetFrameFillColor(0);\n",
    "ctestimg.SetFrameFillStyle(0);\n",
    "ctestimg.SetFrameLineColor(0);\n",
    "ctestimg.SetFrameBorderMode(0);  \n",
    "ctestimg.Divide(3,3);\n",
    "\n",
    "filled = []\n",
    "while len(filled)<9:\n",
    "    p = np.random.randint(0,30)\n",
    "    if p not in filled:\n",
    "        filled.append(p)\n",
    "\n",
    "htestimglist = []\n",
    "for n,i in enumerate(filled):\n",
    "    ctestimg.cd( 3*(n/3) + n%3 + 1 )\n",
    "    h = make_hist_from_array( testimg[i,:,:,0], \"testimg%d\"%(i))\n",
    "    h.Draw(\"col\")\n",
    "    h.GetZaxis().SetRangeUser(0,10.0)\n",
    "    h.GetXaxis().SetLabelSize(0)\n",
    "    h.GetYaxis().SetLabelSize(0)\n",
    "    h.GetZaxis().SetLabelSize(0)\n",
    "    htestimglist.append(h)\n",
    "ctestimg.Draw()"
   ]
  },
  {
   "cell_type": "code",
   "execution_count": null,
   "metadata": {},
   "outputs": [],
   "source": []
  }
 ],
 "metadata": {
  "kernelspec": {
   "display_name": "Python 2",
   "language": "python",
   "name": "python2"
  },
  "language_info": {
   "codemirror_mode": {
    "name": "ipython",
    "version": 2
   },
   "file_extension": ".py",
   "mimetype": "text/x-python",
   "name": "python",
   "nbconvert_exporter": "python",
   "pygments_lexer": "ipython2",
   "version": "2.7.17"
  }
 },
 "nbformat": 4,
 "nbformat_minor": 2
}
